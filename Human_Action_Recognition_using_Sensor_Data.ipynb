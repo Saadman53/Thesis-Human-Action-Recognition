{
  "nbformat": 4,
  "nbformat_minor": 0,
  "metadata": {
    "colab": {
      "provenance": [],
      "authorship_tag": "ABX9TyNS33hdvAhSCf+DrWvF0q5p",
      "include_colab_link": true
    },
    "kernelspec": {
      "name": "python3",
      "display_name": "Python 3"
    },
    "language_info": {
      "name": "python"
    }
  },
  "cells": [
    {
      "cell_type": "markdown",
      "metadata": {
        "id": "view-in-github",
        "colab_type": "text"
      },
      "source": [
        "<a href=\"https://colab.research.google.com/github/Saadman53/Thesis-Human-Action-Recognition/blob/main/Human_Action_Recognition_using_Sensor_Data.ipynb\" target=\"_parent\"><img src=\"https://colab.research.google.com/assets/colab-badge.svg\" alt=\"Open In Colab\"/></a>"
      ]
    },
    {
      "cell_type": "code",
      "execution_count": 83,
      "metadata": {
        "colab": {
          "base_uri": "https://localhost:8080/"
        },
        "id": "D3tTVmIJXdr_",
        "outputId": "b207f608-12c1-410a-a7ea-3fff0a7232fb"
      },
      "outputs": [
        {
          "output_type": "stream",
          "name": "stdout",
          "text": [
            "Drive already mounted at /content/drive; to attempt to forcibly remount, call drive.mount(\"/content/drive\", force_remount=True).\n"
          ]
        }
      ],
      "source": [
        "from google.colab import drive\n",
        "drive.mount('/content/drive')\n",
        "gdrive_path = \"drive/My Drive/Dataset/all_data.csv\""
      ]
    },
    {
      "cell_type": "code",
      "source": [
        "!pip install minepy\n",
        "!pip install sklearn_relief\n",
        "!pip install sklearn-genetic\n",
        "!pip install info_gain"
      ],
      "metadata": {
        "colab": {
          "base_uri": "https://localhost:8080/"
        },
        "id": "qvsFKxx7oZ3a",
        "outputId": "11ecb3df-2ad6-409a-cfb6-13d8fe0476af"
      },
      "execution_count": 84,
      "outputs": [
        {
          "output_type": "stream",
          "name": "stdout",
          "text": [
            "Looking in indexes: https://pypi.org/simple, https://us-python.pkg.dev/colab-wheels/public/simple/\n",
            "Requirement already satisfied: minepy in /usr/local/lib/python3.7/dist-packages (1.2.6)\n",
            "Requirement already satisfied: numpy>=1.3.0 in /usr/local/lib/python3.7/dist-packages (from minepy) (1.21.6)\n",
            "Looking in indexes: https://pypi.org/simple, https://us-python.pkg.dev/colab-wheels/public/simple/\n",
            "Requirement already satisfied: sklearn_relief in /usr/local/lib/python3.7/dist-packages (1.0.0b2)\n",
            "Requirement already satisfied: numpy>=1.13.3 in /usr/local/lib/python3.7/dist-packages (from sklearn_relief) (1.21.6)\n",
            "Requirement already satisfied: scikit-learn>=0.19.1 in /usr/local/lib/python3.7/dist-packages (from sklearn_relief) (1.0.2)\n",
            "Requirement already satisfied: scipy>=1.0.0 in /usr/local/lib/python3.7/dist-packages (from sklearn_relief) (1.7.3)\n",
            "Requirement already satisfied: threadpoolctl>=2.0.0 in /usr/local/lib/python3.7/dist-packages (from scikit-learn>=0.19.1->sklearn_relief) (3.1.0)\n",
            "Requirement already satisfied: joblib>=0.11 in /usr/local/lib/python3.7/dist-packages (from scikit-learn>=0.19.1->sklearn_relief) (1.2.0)\n",
            "Looking in indexes: https://pypi.org/simple, https://us-python.pkg.dev/colab-wheels/public/simple/\n",
            "Requirement already satisfied: sklearn-genetic in /usr/local/lib/python3.7/dist-packages (0.5.1)\n",
            "Requirement already satisfied: numpy in /usr/local/lib/python3.7/dist-packages (from sklearn-genetic) (1.21.6)\n",
            "Requirement already satisfied: multiprocess in /usr/local/lib/python3.7/dist-packages (from sklearn-genetic) (0.70.14)\n",
            "Requirement already satisfied: deap>=1.0.2 in /usr/local/lib/python3.7/dist-packages (from sklearn-genetic) (1.3.3)\n",
            "Requirement already satisfied: scikit-learn>=0.23 in /usr/local/lib/python3.7/dist-packages (from sklearn-genetic) (1.0.2)\n",
            "Requirement already satisfied: joblib>=0.11 in /usr/local/lib/python3.7/dist-packages (from scikit-learn>=0.23->sklearn-genetic) (1.2.0)\n",
            "Requirement already satisfied: threadpoolctl>=2.0.0 in /usr/local/lib/python3.7/dist-packages (from scikit-learn>=0.23->sklearn-genetic) (3.1.0)\n",
            "Requirement already satisfied: scipy>=1.1.0 in /usr/local/lib/python3.7/dist-packages (from scikit-learn>=0.23->sklearn-genetic) (1.7.3)\n",
            "Requirement already satisfied: dill>=0.3.6 in /usr/local/lib/python3.7/dist-packages (from multiprocess->sklearn-genetic) (0.3.6)\n",
            "Looking in indexes: https://pypi.org/simple, https://us-python.pkg.dev/colab-wheels/public/simple/\n",
            "Requirement already satisfied: info_gain in /usr/local/lib/python3.7/dist-packages (1.0.1)\n"
          ]
        }
      ]
    },
    {
      "cell_type": "code",
      "source": [
        "import pandas as pd\n",
        "import numpy as np\n",
        "import matplotlib.pyplot as plt\n",
        "import seaborn as sns\n",
        "%matplotlib inline\n",
        "from minepy import MINE\n",
        "from sklearn.feature_selection import mutual_info_regression\n",
        "import scipy\n",
        "\n",
        "from sklearn.ensemble import RandomForestClassifier\n",
        "from sklearn.feature_selection import SelectFromModel\n",
        "from sklearn.model_selection import train_test_split\n",
        "from scipy.special import entr\n",
        "from sklearn.feature_selection import mutual_info_classif\n",
        "from sklearn.preprocessing import MinMaxScaler\n",
        "from scipy.stats import differential_entropy\n",
        "from scipy.stats import entropy\n",
        "\n",
        "from sklearn.tree import DecisionTreeClassifier\n",
        "\n",
        "from sklearn.preprocessing import MinMaxScaler\n",
        "import torch\n",
        "import torch.nn as nn\n",
        "import torch.nn.functional as F\n",
        "\n",
        "\n",
        "from sklearn.ensemble import RandomForestClassifier\n",
        "from sklearn.feature_selection import SelectFromModel\n",
        "\n",
        "from genetic_selection import GeneticSelectionCV\n",
        "from sklearn.tree import DecisionTreeClassifier\n",
        "\n",
        "from sklearn.feature_selection import mutual_info_regression\n",
        "from info_gain import info_gain\n",
        "\n",
        "import random\n",
        "from sklearn.metrics import confusion_matrix\n",
        "\n",
        "import warnings\n",
        "warnings.filterwarnings('ignore')"
      ],
      "metadata": {
        "id": "QwUL16kMXhyp"
      },
      "execution_count": 137,
      "outputs": []
    },
    {
      "cell_type": "code",
      "source": [
        "df = pd.read_csv(gdrive_path)\n",
        "df.tail()"
      ],
      "metadata": {
        "colab": {
          "base_uri": "https://localhost:8080/",
          "height": 317
        },
        "id": "1k6kAkaiXjLA",
        "outputId": "bfb185d3-ed3e-4a94-bf8e-17ea2e8a8dc3"
      },
      "execution_count": 138,
      "outputs": [
        {
          "output_type": "execute_result",
          "data": {
            "text/plain": [
              "      Unnamed: 0  0_mean_x   0_var_x   0_kurt_x   0_max_x   0_min_x  \\\n",
              "1160        1160 -0.054506  0.001862  -0.040152  0.072510 -0.149658   \n",
              "1161        1161 -0.026696  0.002853   5.849030  0.427002 -0.189697   \n",
              "1162        1162 -0.038772  0.001957  37.360906  0.555176 -0.434082   \n",
              "1163        1163 -0.084045  0.001579  -0.482562  0.028564 -0.166016   \n",
              "1164        1164 -0.043714  0.001209   0.021406  0.071533 -0.119873   \n",
              "\n",
              "      0_dc_comp_x  0_spec_energy_x  0_spec_entropy_x  0_max_psd_x  ...  \\\n",
              "1160  4178.914871     15331.889818          3.857213     0.420883  ...   \n",
              "1161   842.076824      1492.626785          5.105730     0.373887  ...   \n",
              "1162  1766.442641      2957.616036          6.873023     0.149166  ...   \n",
              "1163  9406.587377     77108.344139          3.375543     0.413470  ...   \n",
              "1164  1880.480207      3743.618849          3.326524     0.543291  ...   \n",
              "\n",
              "       9_dc_comp_m  9_spec_energy_m  9_spec_entropy_m  9_max_psd_m  \\\n",
              "1160  1.338846e+06     1.511391e+09          6.555544     0.113631   \n",
              "1161  1.131603e+06     1.178036e+09          6.289649     0.097086   \n",
              "1162  1.123454e+06     1.164343e+09          6.877409     0.068606   \n",
              "1163  1.274956e+06     1.408591e+09          6.892931     0.061177   \n",
              "1164  9.423824e+05     8.952466e+08          6.628678     0.059656   \n",
              "\n",
              "       9_min_psd_m  9_min_max_psd_m  9_max_xas_m  9_min_xas_m  \\\n",
              "1160  3.274603e-09     2.881788e-08     0.337092     0.000057   \n",
              "1161  1.527362e-08     1.573198e-07     0.311587     0.000124   \n",
              "1162  6.772243e-08     9.871164e-07     0.261928     0.000260   \n",
              "1163  1.379768e-08     2.255369e-07     0.247340     0.000117   \n",
              "1164  1.391945e-07     2.333289e-06     0.244246     0.000373   \n",
              "\n",
              "      9_min_max_xas_m  activity  \n",
              "1160         0.000170         9  \n",
              "1161         0.000397         9  \n",
              "1162         0.000994         9  \n",
              "1163         0.000475         9  \n",
              "1164         0.001528         9  \n",
              "\n",
              "[5 rows x 562 columns]"
            ],
            "text/html": [
              "\n",
              "  <div id=\"df-2553c192-7780-4606-a9fe-33bb545e2e86\">\n",
              "    <div class=\"colab-df-container\">\n",
              "      <div>\n",
              "<style scoped>\n",
              "    .dataframe tbody tr th:only-of-type {\n",
              "        vertical-align: middle;\n",
              "    }\n",
              "\n",
              "    .dataframe tbody tr th {\n",
              "        vertical-align: top;\n",
              "    }\n",
              "\n",
              "    .dataframe thead th {\n",
              "        text-align: right;\n",
              "    }\n",
              "</style>\n",
              "<table border=\"1\" class=\"dataframe\">\n",
              "  <thead>\n",
              "    <tr style=\"text-align: right;\">\n",
              "      <th></th>\n",
              "      <th>Unnamed: 0</th>\n",
              "      <th>0_mean_x</th>\n",
              "      <th>0_var_x</th>\n",
              "      <th>0_kurt_x</th>\n",
              "      <th>0_max_x</th>\n",
              "      <th>0_min_x</th>\n",
              "      <th>0_dc_comp_x</th>\n",
              "      <th>0_spec_energy_x</th>\n",
              "      <th>0_spec_entropy_x</th>\n",
              "      <th>0_max_psd_x</th>\n",
              "      <th>...</th>\n",
              "      <th>9_dc_comp_m</th>\n",
              "      <th>9_spec_energy_m</th>\n",
              "      <th>9_spec_entropy_m</th>\n",
              "      <th>9_max_psd_m</th>\n",
              "      <th>9_min_psd_m</th>\n",
              "      <th>9_min_max_psd_m</th>\n",
              "      <th>9_max_xas_m</th>\n",
              "      <th>9_min_xas_m</th>\n",
              "      <th>9_min_max_xas_m</th>\n",
              "      <th>activity</th>\n",
              "    </tr>\n",
              "  </thead>\n",
              "  <tbody>\n",
              "    <tr>\n",
              "      <th>1160</th>\n",
              "      <td>1160</td>\n",
              "      <td>-0.054506</td>\n",
              "      <td>0.001862</td>\n",
              "      <td>-0.040152</td>\n",
              "      <td>0.072510</td>\n",
              "      <td>-0.149658</td>\n",
              "      <td>4178.914871</td>\n",
              "      <td>15331.889818</td>\n",
              "      <td>3.857213</td>\n",
              "      <td>0.420883</td>\n",
              "      <td>...</td>\n",
              "      <td>1.338846e+06</td>\n",
              "      <td>1.511391e+09</td>\n",
              "      <td>6.555544</td>\n",
              "      <td>0.113631</td>\n",
              "      <td>3.274603e-09</td>\n",
              "      <td>2.881788e-08</td>\n",
              "      <td>0.337092</td>\n",
              "      <td>0.000057</td>\n",
              "      <td>0.000170</td>\n",
              "      <td>9</td>\n",
              "    </tr>\n",
              "    <tr>\n",
              "      <th>1161</th>\n",
              "      <td>1161</td>\n",
              "      <td>-0.026696</td>\n",
              "      <td>0.002853</td>\n",
              "      <td>5.849030</td>\n",
              "      <td>0.427002</td>\n",
              "      <td>-0.189697</td>\n",
              "      <td>842.076824</td>\n",
              "      <td>1492.626785</td>\n",
              "      <td>5.105730</td>\n",
              "      <td>0.373887</td>\n",
              "      <td>...</td>\n",
              "      <td>1.131603e+06</td>\n",
              "      <td>1.178036e+09</td>\n",
              "      <td>6.289649</td>\n",
              "      <td>0.097086</td>\n",
              "      <td>1.527362e-08</td>\n",
              "      <td>1.573198e-07</td>\n",
              "      <td>0.311587</td>\n",
              "      <td>0.000124</td>\n",
              "      <td>0.000397</td>\n",
              "      <td>9</td>\n",
              "    </tr>\n",
              "    <tr>\n",
              "      <th>1162</th>\n",
              "      <td>1162</td>\n",
              "      <td>-0.038772</td>\n",
              "      <td>0.001957</td>\n",
              "      <td>37.360906</td>\n",
              "      <td>0.555176</td>\n",
              "      <td>-0.434082</td>\n",
              "      <td>1766.442641</td>\n",
              "      <td>2957.616036</td>\n",
              "      <td>6.873023</td>\n",
              "      <td>0.149166</td>\n",
              "      <td>...</td>\n",
              "      <td>1.123454e+06</td>\n",
              "      <td>1.164343e+09</td>\n",
              "      <td>6.877409</td>\n",
              "      <td>0.068606</td>\n",
              "      <td>6.772243e-08</td>\n",
              "      <td>9.871164e-07</td>\n",
              "      <td>0.261928</td>\n",
              "      <td>0.000260</td>\n",
              "      <td>0.000994</td>\n",
              "      <td>9</td>\n",
              "    </tr>\n",
              "    <tr>\n",
              "      <th>1163</th>\n",
              "      <td>1163</td>\n",
              "      <td>-0.084045</td>\n",
              "      <td>0.001579</td>\n",
              "      <td>-0.482562</td>\n",
              "      <td>0.028564</td>\n",
              "      <td>-0.166016</td>\n",
              "      <td>9406.587377</td>\n",
              "      <td>77108.344139</td>\n",
              "      <td>3.375543</td>\n",
              "      <td>0.413470</td>\n",
              "      <td>...</td>\n",
              "      <td>1.274956e+06</td>\n",
              "      <td>1.408591e+09</td>\n",
              "      <td>6.892931</td>\n",
              "      <td>0.061177</td>\n",
              "      <td>1.379768e-08</td>\n",
              "      <td>2.255369e-07</td>\n",
              "      <td>0.247340</td>\n",
              "      <td>0.000117</td>\n",
              "      <td>0.000475</td>\n",
              "      <td>9</td>\n",
              "    </tr>\n",
              "    <tr>\n",
              "      <th>1164</th>\n",
              "      <td>1164</td>\n",
              "      <td>-0.043714</td>\n",
              "      <td>0.001209</td>\n",
              "      <td>0.021406</td>\n",
              "      <td>0.071533</td>\n",
              "      <td>-0.119873</td>\n",
              "      <td>1880.480207</td>\n",
              "      <td>3743.618849</td>\n",
              "      <td>3.326524</td>\n",
              "      <td>0.543291</td>\n",
              "      <td>...</td>\n",
              "      <td>9.423824e+05</td>\n",
              "      <td>8.952466e+08</td>\n",
              "      <td>6.628678</td>\n",
              "      <td>0.059656</td>\n",
              "      <td>1.391945e-07</td>\n",
              "      <td>2.333289e-06</td>\n",
              "      <td>0.244246</td>\n",
              "      <td>0.000373</td>\n",
              "      <td>0.001528</td>\n",
              "      <td>9</td>\n",
              "    </tr>\n",
              "  </tbody>\n",
              "</table>\n",
              "<p>5 rows × 562 columns</p>\n",
              "</div>\n",
              "      <button class=\"colab-df-convert\" onclick=\"convertToInteractive('df-2553c192-7780-4606-a9fe-33bb545e2e86')\"\n",
              "              title=\"Convert this dataframe to an interactive table.\"\n",
              "              style=\"display:none;\">\n",
              "        \n",
              "  <svg xmlns=\"http://www.w3.org/2000/svg\" height=\"24px\"viewBox=\"0 0 24 24\"\n",
              "       width=\"24px\">\n",
              "    <path d=\"M0 0h24v24H0V0z\" fill=\"none\"/>\n",
              "    <path d=\"M18.56 5.44l.94 2.06.94-2.06 2.06-.94-2.06-.94-.94-2.06-.94 2.06-2.06.94zm-11 1L8.5 8.5l.94-2.06 2.06-.94-2.06-.94L8.5 2.5l-.94 2.06-2.06.94zm10 10l.94 2.06.94-2.06 2.06-.94-2.06-.94-.94-2.06-.94 2.06-2.06.94z\"/><path d=\"M17.41 7.96l-1.37-1.37c-.4-.4-.92-.59-1.43-.59-.52 0-1.04.2-1.43.59L10.3 9.45l-7.72 7.72c-.78.78-.78 2.05 0 2.83L4 21.41c.39.39.9.59 1.41.59.51 0 1.02-.2 1.41-.59l7.78-7.78 2.81-2.81c.8-.78.8-2.07 0-2.86zM5.41 20L4 18.59l7.72-7.72 1.47 1.35L5.41 20z\"/>\n",
              "  </svg>\n",
              "      </button>\n",
              "      \n",
              "  <style>\n",
              "    .colab-df-container {\n",
              "      display:flex;\n",
              "      flex-wrap:wrap;\n",
              "      gap: 12px;\n",
              "    }\n",
              "\n",
              "    .colab-df-convert {\n",
              "      background-color: #E8F0FE;\n",
              "      border: none;\n",
              "      border-radius: 50%;\n",
              "      cursor: pointer;\n",
              "      display: none;\n",
              "      fill: #1967D2;\n",
              "      height: 32px;\n",
              "      padding: 0 0 0 0;\n",
              "      width: 32px;\n",
              "    }\n",
              "\n",
              "    .colab-df-convert:hover {\n",
              "      background-color: #E2EBFA;\n",
              "      box-shadow: 0px 1px 2px rgba(60, 64, 67, 0.3), 0px 1px 3px 1px rgba(60, 64, 67, 0.15);\n",
              "      fill: #174EA6;\n",
              "    }\n",
              "\n",
              "    [theme=dark] .colab-df-convert {\n",
              "      background-color: #3B4455;\n",
              "      fill: #D2E3FC;\n",
              "    }\n",
              "\n",
              "    [theme=dark] .colab-df-convert:hover {\n",
              "      background-color: #434B5C;\n",
              "      box-shadow: 0px 1px 3px 1px rgba(0, 0, 0, 0.15);\n",
              "      filter: drop-shadow(0px 1px 2px rgba(0, 0, 0, 0.3));\n",
              "      fill: #FFFFFF;\n",
              "    }\n",
              "  </style>\n",
              "\n",
              "      <script>\n",
              "        const buttonEl =\n",
              "          document.querySelector('#df-2553c192-7780-4606-a9fe-33bb545e2e86 button.colab-df-convert');\n",
              "        buttonEl.style.display =\n",
              "          google.colab.kernel.accessAllowed ? 'block' : 'none';\n",
              "\n",
              "        async function convertToInteractive(key) {\n",
              "          const element = document.querySelector('#df-2553c192-7780-4606-a9fe-33bb545e2e86');\n",
              "          const dataTable =\n",
              "            await google.colab.kernel.invokeFunction('convertToInteractive',\n",
              "                                                     [key], {});\n",
              "          if (!dataTable) return;\n",
              "\n",
              "          const docLinkHtml = 'Like what you see? Visit the ' +\n",
              "            '<a target=\"_blank\" href=https://colab.research.google.com/notebooks/data_table.ipynb>data table notebook</a>'\n",
              "            + ' to learn more about interactive tables.';\n",
              "          element.innerHTML = '';\n",
              "          dataTable['output_type'] = 'display_data';\n",
              "          await google.colab.output.renderOutput(dataTable, element);\n",
              "          const docLink = document.createElement('div');\n",
              "          docLink.innerHTML = docLinkHtml;\n",
              "          element.appendChild(docLink);\n",
              "        }\n",
              "      </script>\n",
              "    </div>\n",
              "  </div>\n",
              "  "
            ]
          },
          "metadata": {},
          "execution_count": 138
        }
      ]
    },
    {
      "cell_type": "code",
      "source": [
        "def train_test_val_split(df,n_classes, target, test_prob = 0.2):\n",
        "  test_prob = 0.2\n",
        "  test_samples = []\n",
        "  val_samples = []\n",
        "  train_samples = []\n",
        "  for i in range(n_classes):\n",
        "    indices = list(df[df[target]==(i+1)].index.values)\n",
        "    size = len(indices)\n",
        "    test_sample = random.sample(indices,int(size*test_prob))\n",
        "    train_sample = list(np.setdiff1d(indices,test_sample)) #subtract test samples from whole set\n",
        "    val_sample = random.sample(train_sample,int(len(train_sample)*test_prob))\n",
        "    train_sample = list(np.setdiff1d(train_sample,val_sample)) #subtract validation samples from train\n",
        "    test_samples.extend(test_sample)\n",
        "    val_samples.extend(val_sample)\n",
        "    train_samples.extend(train_sample)\n",
        "  X = df.drop([target], axis = 1).copy()\n",
        "  y = df[target].copy()\n",
        "  X_train = X.iloc[train_samples]\n",
        "  y_train = y.iloc[train_samples]\n",
        "  X_val = X.iloc[val_samples]\n",
        "  y_val = y.iloc[val_samples]\n",
        "  X_test = X.iloc[test_samples]\n",
        "  y_test = y.iloc[test_samples]\n",
        "  return X_train, X_test, X_val, y_train, y_test, y_val"
      ],
      "metadata": {
        "id": "iqHAlPKcUOa3"
      },
      "execution_count": 139,
      "outputs": []
    },
    {
      "cell_type": "code",
      "source": [
        "df.drop(df.columns[df.isna().any()].tolist(), axis = 1, inplace = True)\n",
        "df.drop(['Unnamed: 0'], axis = 1, inplace = True)"
      ],
      "metadata": {
        "id": "pbCKNbRtXni2"
      },
      "execution_count": 140,
      "outputs": []
    },
    {
      "cell_type": "code",
      "source": [
        "X = df.drop(['activity'], axis = 1)\n",
        "y = df['activity']\n",
        "X_train_val, X_test, y_train_val, y_test = train_test_split(X, y,test_size=0.3, random_state=42, stratify = y)\n",
        "X_train, X_val, y_train, y_val = train_test_split(X_train_val, y_train_val,test_size=0.1, random_state=21,  stratify = y_train_val)\n",
        "features = X.columns"
      ],
      "metadata": {
        "id": "K3zruMbYr0zY"
      },
      "execution_count": 141,
      "outputs": []
    },
    {
      "cell_type": "code",
      "source": [
        "#X_train, X_test, X_val, y_train, y_test, y_val = train_test_val_split(df,22, \"activity\", 0.2)"
      ],
      "metadata": {
        "id": "Qy2_4uGbNGD-"
      },
      "execution_count": 142,
      "outputs": []
    },
    {
      "cell_type": "code",
      "source": [
        "features = X_train.columns"
      ],
      "metadata": {
        "id": "3a01OUA1jMJl"
      },
      "execution_count": 143,
      "outputs": []
    },
    {
      "cell_type": "code",
      "source": [
        "#relief f\n",
        "from sklearn.metrics.pairwise import pairwise_distances\n",
        "def reliefF(X, y, **kwargs):\n",
        "    \"\"\"\n",
        "    This function implements the reliefF feature selection\n",
        "    Input\n",
        "    -----\n",
        "    X: {numpy array}, shape (n_samples, n_features)\n",
        "        input data\n",
        "    y: {numpy array}, shape (n_samples,)\n",
        "        input class labels\n",
        "    kwargs: {dictionary}\n",
        "        parameters of reliefF:\n",
        "        k: {int}\n",
        "            choices for the number of neighbors (default k = 5)\n",
        "    Output\n",
        "    ------\n",
        "    score: {numpy array}, shape (n_features,)\n",
        "        reliefF score for each feature\n",
        "    Reference\n",
        "    ---------\n",
        "    Robnik-Sikonja, Marko et al. \"Theoretical and empirical analysis of relieff and rrelieff.\" Machine Learning 2003.\n",
        "    Zhao, Zheng et al. \"On Similarity Preserving Feature Selection.\" TKDE 2013.\n",
        "    \"\"\"\n",
        "\n",
        "    if \"k\" not in kwargs.keys():\n",
        "        k = 5\n",
        "    else:\n",
        "        k = kwargs[\"k\"]\n",
        "    n_samples, n_features = X.shape\n",
        "\n",
        "    # calculate pairwise distances between instances\n",
        "    distance = pairwise_distances(X, metric='manhattan')\n",
        "\n",
        "    score = np.zeros(n_features)\n",
        "\n",
        "    # the number of sampled instances is equal to the number of total instances\n",
        "    for idx in range(n_samples):\n",
        "        near_hit = []\n",
        "        near_miss = dict()\n",
        "\n",
        "        self_fea = X[idx, :]\n",
        "        c = np.unique(y).tolist()\n",
        "\n",
        "        stop_dict = dict()\n",
        "        for label in c:\n",
        "            stop_dict[label] = 0\n",
        "        del c[c.index(y[idx])]\n",
        "\n",
        "        p_dict = dict()\n",
        "        p_label_idx = float(len(y[y == y[idx]]))/float(n_samples)\n",
        "\n",
        "        for label in c:\n",
        "            p_label_c = float(len(y[y == label]))/float(n_samples)\n",
        "            p_dict[label] = p_label_c/(1-p_label_idx)\n",
        "            near_miss[label] = []\n",
        "\n",
        "        distance_sort = []\n",
        "        distance[idx, idx] = np.max(distance[idx, :])\n",
        "\n",
        "        for i in range(n_samples):\n",
        "            distance_sort.append([distance[idx, i], int(i), y[i]])\n",
        "        distance_sort.sort(key=lambda x: x[0])\n",
        "\n",
        "        for i in range(n_samples):\n",
        "            # find k nearest hit points\n",
        "            if distance_sort[i][2] == y[idx]:\n",
        "                if len(near_hit) < k:\n",
        "                    near_hit.append(distance_sort[i][1])\n",
        "                elif len(near_hit) == k:\n",
        "                    stop_dict[y[idx]] = 1\n",
        "            else:\n",
        "                # find k nearest miss points for each label\n",
        "                if len(near_miss[distance_sort[i][2]]) < k:\n",
        "                    near_miss[distance_sort[i][2]].append(distance_sort[i][1])\n",
        "                else:\n",
        "                    if len(near_miss[distance_sort[i][2]]) == k:\n",
        "                        stop_dict[distance_sort[i][2]] = 1\n",
        "            stop = True\n",
        "            for (key, value) in stop_dict.items():\n",
        "                    if value != 1:\n",
        "                        stop = False\n",
        "            if stop:\n",
        "                break\n",
        "\n",
        "        # update reliefF score\n",
        "        near_hit_term = np.zeros(n_features)\n",
        "        for ele in near_hit:\n",
        "            near_hit_term = np.array(abs(self_fea-X[ele, :]))+np.array(near_hit_term)\n",
        "\n",
        "        near_miss_term = dict()\n",
        "        for (label, miss_list) in near_miss.items():\n",
        "            near_miss_term[label] = np.zeros(n_features)\n",
        "            for ele in miss_list:\n",
        "                near_miss_term[label] = np.array(abs(self_fea-X[ele, :]))+np.array(near_miss_term[label])\n",
        "            score += near_miss_term[label]/(k*p_dict[label])\n",
        "        score -= near_hit_term/k\n",
        "    return score\n",
        "\n",
        "\n",
        "def feature_ranking(score):\n",
        "    \"\"\"\n",
        "    Rank features in descending order according to reliefF score, the higher the reliefF score, the more important the\n",
        "    feature is\n",
        "    \"\"\"\n",
        "    idx = np.argsort(score, 0)\n",
        "    return idx[::-1]\n",
        "def selected_features(X, score):\n",
        "  ranked_features = feature_ranking(score)\n",
        "  sel_feat = []\n",
        "  for i in range(X.shape[1]):\n",
        "    if(ranked_features[i]>0):\n",
        "      sel_feat.append(ranked_features[i])\n",
        "    else:\n",
        "      break\n",
        "  return X.columns[np.array(sel_feat)]\n"
      ],
      "metadata": {
        "id": "od1W19upYUic"
      },
      "execution_count": 144,
      "outputs": []
    },
    {
      "cell_type": "code",
      "source": [
        "##symmetrical uncertainty\n",
        "def SU(df, X,Y):\n",
        "  if(Y=='activity'):\n",
        "    IG = mutual_info_classif(np.transpose(np.array([df[X]])), df[Y]).item()\n",
        "    H_Y = entropy(df[Y])\n",
        "  else:\n",
        "    IG = mutual_info_regression(np.transpose(np.array([df[X]])), df[Y]).item()\n",
        "    H_Y = differential_entropy(df[Y])\n",
        "  H_X = differential_entropy(df[X])\n",
        "  su = ((2.0*IG)/(H_X+H_Y))\n",
        "  return su\n",
        " \n",
        "def MI(df, X,Y):\n",
        "  if(Y=='activity'):\n",
        "    MI = mutual_info_classif(np.transpose(np.array([df[X]])), df[Y]).item()\n",
        "  else:\n",
        "    MI = mutual_info_regression(np.transpose(np.array([df[X]])), df[Y]).item()\n",
        "  return MI\n",
        "\n",
        "def SU_feature_selection(X_train, y_train):\n",
        "  df_train = df.iloc[X_train.index].copy()\n",
        "  scores = []\n",
        "  #print(\"SU:\\nCol\\tScore\")\n",
        "  for col in df_train.columns:\n",
        "    if col!='activity':\n",
        "      #print(col+\":\")\n",
        "      score = SU(df_train, col, 'activity')\n",
        "      scores.append(score)\n",
        "      #print(score)\n",
        "  ser = pd.Series(np.array(scores),index = features).sort_values(ascending=False)\n",
        "  return ser[ser>0.0].index.values\n",
        "\n",
        "#Fast Correlation Based Filter\n",
        "def FCBF(df, features, C):\n",
        "  thresh = 0.000001\n",
        "  N = len(features)\n",
        "  S_list = {}\n",
        "  for i in range(N):\n",
        "    val = SU(df, features[i], C)\n",
        "    if(val> thresh):\n",
        "      S_list[features[i]] = val\n",
        "  S_list = pd.Series(S_list).sort_values(ascending=False)\n",
        "  no_features = S_list.shape[0]\n",
        "  a_list = np.ones(no_features)\n",
        "  for i in range(no_features):\n",
        "    if(a_list[i]==1):\n",
        "      Fp = S_list.index[i]\n",
        "      for j in range(i+1,no_features):\n",
        "        if(a_list[j]==1):\n",
        "          Fq = S_list.index[j]\n",
        "          if(SU(df, Fp,Fq) >= S_list[j]):\n",
        "            print(f\"{j} has been eleminated while in {i}\")\n",
        "            a_list[j]=0\n",
        "  idx = np.where(a_list==1)[0]\n",
        "  return S_list.index[idx]\n",
        "\n",
        "def random_forest_feature_selection(X_train, y_train):\n",
        "  sel = SelectFromModel(RandomForestClassifier(n_estimators = 100))\n",
        "  sel.fit(X_train, y_train)\n",
        "  sel.get_support()\n",
        "  selected_features_rf= X_train.columns[(sel.get_support())].values\n",
        "  return selected_features_rf\n",
        "\n",
        "def reliefF_feature_selection(X_train, y_train):\n",
        "  score = reliefF(X_train.to_numpy(),y_train.to_numpy())\n",
        "  selected_features_relief = selected_features(X_train,score).values\n",
        "  return selected_features_relief\n",
        "\n",
        "def genetic_feature_selection(X_train, y_train):\n",
        "  estimator = DecisionTreeClassifier()\n",
        "  model = GeneticSelectionCV(\n",
        "      estimator, cv=5, verbose=0,\n",
        "      scoring=\"accuracy\", max_features=100,\n",
        "      n_population=100, crossover_proba=0.5,\n",
        "      mutation_proba=0.2, n_generations=50,\n",
        "      crossover_independent_proba=0.5,\n",
        "      mutation_independent_proba=0.04,\n",
        "      tournament_size=3, n_gen_no_change=10,\n",
        "      caching=True, n_jobs=-1)\n",
        "  model = model.fit(X_train,y_train)\n",
        "  selected_features_genetic = X_train.columns[model._get_support_mask()].values\n",
        "  return selected_features_genetic\n",
        "\n",
        "def mutual_information_feature_selection(X_train, y_train):\n",
        "  mi_scores = mutual_info_regression(X_train, y_train, discrete_features=False)\n",
        "  mi_scores = pd.Series(mi_scores, name=\"MI Scores\", index=X_train.columns)\n",
        "  mi_scores = mi_scores.sort_values(ascending=False)\n",
        "  selected_features_info_gain = mi_scores[mi_scores>0.5].index.values\n",
        "  return selected_features_info_gain\n",
        "\n",
        "# def information_gain_feature_selection(X_train, y_train):\n",
        "#   clf = DecisionTreeClassifier(random_state=0, criterion = \"entropy\")\n",
        "#   clf.fit(X_train, y_train)\n",
        "#   scores = clf.feature_importances_\n",
        "#   ser = pd.Series(scores, index = features).sort_values(ascending=False)\n",
        "#   return ser[ser>0.0]\n",
        "def gain_ratio_feature_selection(X_train, y_train):\n",
        "  gain_ratio = []\n",
        "  #print(\"Gain Ratio:\\nCol\\tScore\")\n",
        "  for i in range(X_train.shape[1]):\n",
        "    score = info_gain.info_gain_ratio(X_train.iloc[:,i], y_train )\n",
        "    gain_ratio.append(score)\n",
        "    #print(X_train.columns[i],score)\n",
        "  res = pd.Series(np.array(gain_ratio),index = features).sort_values(ascending=False)\n",
        "  return res[res>0.60].index.values\n",
        "\n",
        "def chi2_feature_selection(X_train1,y_train):\n",
        "  scaler = MinMaxScaler()\n",
        "  X_train1 = scaler.fit_transform(X_train)\n",
        "  from sklearn.feature_selection import chi2\n",
        "  chi_scores = chi2(X_train1,y_train)\n",
        "  p_values = pd.Series(chi_scores[1],index = X_train.columns)\n",
        "  p_values.sort_values(ascending = False , inplace = True)\n",
        "  selected_features_chi = p_values[p_values>0.5].index.values\n",
        "  return selected_features_chi"
      ],
      "metadata": {
        "id": "c4MRBs1NRCjX"
      },
      "execution_count": 145,
      "outputs": []
    },
    {
      "cell_type": "code",
      "source": [
        "def EFS_MI(df, X_train, y_train):\n",
        "  selected_feature_list = [gain_ratio_feature_selection(X_train, y_train),\n",
        "                           reliefF_feature_selection(X_train,y_train), \n",
        "                           SU_feature_selection(X_train, y_train), \n",
        "                           mutual_information_feature_selection(X_train,y_train), \n",
        "                           chi2_feature_selection(X_train,y_train)]\n",
        "  s = set()\n",
        "  df_train = df.iloc[X_train.index]\n",
        "  for i in range(5):\n",
        "    for j in range(len(selected_feature_list[i])):\n",
        "      s.add(selected_feature_list[i][j])\n",
        "  optimal_list = []\n",
        "  ensemble_list = []\n",
        "  for feat in s:\n",
        "    cnt = 0\n",
        "    for j in range(5):\n",
        "      if(feat in selected_feature_list[j]):\n",
        "        cnt+=1\n",
        "    if(cnt==5):\n",
        "      optimal_list.append(feat)\n",
        "    else:\n",
        "      ensemble_list.append(feat)\n",
        "  f_class_mi = []\n",
        "  for feature in ensemble_list:\n",
        "    score = MI(df_train, feature, 'activity')\n",
        "    f_class_mi.append(score)\n",
        "  f_class_mi = pd.Series(np.array(f_class_mi),index = ensemble_list).sort_values(ascending=False)\n",
        "  ensemble_list= f_class_mi.index.values\n",
        "  #print(len(optimal_list))\n",
        "  #print(len(ensemble_list))\n",
        "  for feature in ensemble_list:\n",
        "    scores = []\n",
        "    for opt_feature in optimal_list:\n",
        "      scores.append(MI(df_train,feature,opt_feature))\n",
        "    if (max(scores)<0.75):\n",
        "      optimal_list.append(feature)\n",
        "  return optimal_list\n"
      ],
      "metadata": {
        "id": "_Z-9KZm3rZF2"
      },
      "execution_count": 146,
      "outputs": []
    },
    {
      "cell_type": "code",
      "source": [
        "def ECFS(df,X_train,y_train):\n",
        "  selected_feature_list = [random_forest_feature_selection(X_train,y_train),\n",
        "                           reliefF_feature_selection(X_train,y_train), \n",
        "                           genetic_feature_selection(X_train,y_train), \n",
        "                           mutual_information_feature_selection(X_train,y_train), \n",
        "                           chi2_feature_selection(X_train,y_train)]\n",
        "  s = set()\n",
        "  df_train = df.iloc[X_train.index]\n",
        "  for i in range(5):\n",
        "    for j in range(len(selected_feature_list[i])):\n",
        "      s.add(selected_feature_list[i][j])\n",
        "  final_list = []\n",
        "  ensemble_list = []\n",
        "  for feat in s:\n",
        "    cnt = 0\n",
        "    for j in range(5):\n",
        "      if(feat in selected_feature_list[j]):\n",
        "        cnt+=1\n",
        "    if(cnt>=4):\n",
        "      final_list.append(feat)\n",
        "    else:\n",
        "      ensemble_list.append(feat)\n",
        "  sel = FCBF(df_train, ensemble_list, 'activity')\n",
        "  final_list.extend(sel.values.tolist())\n",
        "  return final_list"
      ],
      "metadata": {
        "id": "EvmtcTLd8Rig"
      },
      "execution_count": 147,
      "outputs": []
    },
    {
      "cell_type": "code",
      "source": [
        "selected_feat_ecfs = ECFS(df, X_train, y_train)"
      ],
      "metadata": {
        "colab": {
          "base_uri": "https://localhost:8080/"
        },
        "id": "I3NsnerKMvcG",
        "outputId": "fa47e767-68b9-4f67-9371-889008cf6fde"
      },
      "execution_count": 148,
      "outputs": [
        {
          "output_type": "stream",
          "name": "stdout",
          "text": [
            "341 has been eleminated while in 0\n",
            "327 has been eleminated while in 1\n",
            "329 has been eleminated while in 1\n",
            "334 has been eleminated while in 1\n",
            "338 has been eleminated while in 1\n",
            "339 has been eleminated while in 1\n",
            "332 has been eleminated while in 2\n",
            "340 has been eleminated while in 2\n",
            "323 has been eleminated while in 3\n",
            "333 has been eleminated while in 3\n",
            "316 has been eleminated while in 4\n",
            "336 has been eleminated while in 4\n",
            "305 has been eleminated while in 8\n",
            "337 has been eleminated while in 13\n",
            "321 has been eleminated while in 14\n",
            "330 has been eleminated while in 15\n",
            "198 has been eleminated while in 17\n",
            "205 has been eleminated while in 17\n",
            "304 has been eleminated while in 17\n",
            "313 has been eleminated while in 18\n",
            "318 has been eleminated while in 18\n",
            "240 has been eleminated while in 19\n",
            "254 has been eleminated while in 19\n",
            "253 has been eleminated while in 24\n",
            "257 has been eleminated while in 27\n",
            "264 has been eleminated while in 27\n",
            "268 has been eleminated while in 27\n",
            "279 has been eleminated while in 27\n",
            "286 has been eleminated while in 27\n",
            "290 has been eleminated while in 27\n",
            "292 has been eleminated while in 27\n",
            "300 has been eleminated while in 27\n",
            "319 has been eleminated while in 27\n",
            "324 has been eleminated while in 27\n",
            "335 has been eleminated while in 28\n",
            "84 has been eleminated while in 31\n",
            "86 has been eleminated while in 31\n",
            "100 has been eleminated while in 31\n",
            "102 has been eleminated while in 31\n",
            "122 has been eleminated while in 31\n",
            "126 has been eleminated while in 31\n",
            "234 has been eleminated while in 31\n",
            "246 has been eleminated while in 31\n",
            "274 has been eleminated while in 31\n",
            "277 has been eleminated while in 31\n",
            "288 has been eleminated while in 31\n",
            "311 has been eleminated while in 31\n",
            "34 has been eleminated while in 32\n",
            "35 has been eleminated while in 32\n",
            "36 has been eleminated while in 32\n",
            "45 has been eleminated while in 32\n",
            "48 has been eleminated while in 32\n",
            "49 has been eleminated while in 32\n",
            "53 has been eleminated while in 32\n",
            "54 has been eleminated while in 32\n",
            "56 has been eleminated while in 32\n",
            "57 has been eleminated while in 32\n",
            "59 has been eleminated while in 32\n",
            "60 has been eleminated while in 32\n",
            "61 has been eleminated while in 32\n",
            "62 has been eleminated while in 32\n",
            "65 has been eleminated while in 32\n",
            "67 has been eleminated while in 32\n",
            "70 has been eleminated while in 32\n",
            "73 has been eleminated while in 32\n",
            "74 has been eleminated while in 32\n",
            "75 has been eleminated while in 32\n",
            "81 has been eleminated while in 32\n",
            "82 has been eleminated while in 32\n",
            "85 has been eleminated while in 32\n",
            "87 has been eleminated while in 32\n",
            "89 has been eleminated while in 32\n",
            "91 has been eleminated while in 32\n",
            "94 has been eleminated while in 32\n",
            "95 has been eleminated while in 32\n",
            "106 has been eleminated while in 32\n",
            "109 has been eleminated while in 32\n",
            "112 has been eleminated while in 32\n",
            "114 has been eleminated while in 32\n",
            "116 has been eleminated while in 32\n",
            "117 has been eleminated while in 32\n",
            "121 has been eleminated while in 32\n",
            "123 has been eleminated while in 32\n",
            "124 has been eleminated while in 32\n",
            "127 has been eleminated while in 32\n",
            "130 has been eleminated while in 32\n",
            "134 has been eleminated while in 32\n",
            "135 has been eleminated while in 32\n",
            "136 has been eleminated while in 32\n",
            "137 has been eleminated while in 32\n",
            "138 has been eleminated while in 32\n",
            "140 has been eleminated while in 32\n",
            "142 has been eleminated while in 32\n",
            "146 has been eleminated while in 32\n",
            "147 has been eleminated while in 32\n",
            "148 has been eleminated while in 32\n",
            "149 has been eleminated while in 32\n",
            "153 has been eleminated while in 32\n",
            "157 has been eleminated while in 32\n",
            "159 has been eleminated while in 32\n",
            "160 has been eleminated while in 32\n",
            "162 has been eleminated while in 32\n",
            "163 has been eleminated while in 32\n",
            "164 has been eleminated while in 32\n",
            "166 has been eleminated while in 32\n",
            "168 has been eleminated while in 32\n",
            "170 has been eleminated while in 32\n",
            "172 has been eleminated while in 32\n",
            "174 has been eleminated while in 32\n",
            "176 has been eleminated while in 32\n",
            "178 has been eleminated while in 32\n",
            "180 has been eleminated while in 32\n",
            "182 has been eleminated while in 32\n",
            "184 has been eleminated while in 32\n",
            "185 has been eleminated while in 32\n",
            "186 has been eleminated while in 32\n",
            "187 has been eleminated while in 32\n",
            "189 has been eleminated while in 32\n",
            "190 has been eleminated while in 32\n",
            "191 has been eleminated while in 32\n",
            "200 has been eleminated while in 32\n",
            "201 has been eleminated while in 32\n",
            "202 has been eleminated while in 32\n",
            "204 has been eleminated while in 32\n",
            "206 has been eleminated while in 32\n",
            "208 has been eleminated while in 32\n",
            "211 has been eleminated while in 32\n",
            "214 has been eleminated while in 32\n",
            "217 has been eleminated while in 32\n",
            "221 has been eleminated while in 32\n",
            "233 has been eleminated while in 32\n",
            "241 has been eleminated while in 32\n",
            "244 has been eleminated while in 32\n",
            "247 has been eleminated while in 32\n",
            "249 has been eleminated while in 32\n",
            "251 has been eleminated while in 32\n",
            "261 has been eleminated while in 32\n",
            "262 has been eleminated while in 32\n",
            "265 has been eleminated while in 32\n",
            "275 has been eleminated while in 32\n",
            "295 has been eleminated while in 32\n",
            "298 has been eleminated while in 32\n",
            "302 has been eleminated while in 32\n",
            "303 has been eleminated while in 32\n",
            "306 has been eleminated while in 32\n",
            "307 has been eleminated while in 32\n",
            "309 has been eleminated while in 32\n",
            "310 has been eleminated while in 32\n",
            "317 has been eleminated while in 32\n",
            "320 has been eleminated while in 32\n",
            "326 has been eleminated while in 32\n",
            "297 has been eleminated while in 38\n",
            "183 has been eleminated while in 40\n",
            "235 has been eleminated while in 40\n",
            "284 has been eleminated while in 40\n",
            "287 has been eleminated while in 40\n",
            "289 has been eleminated while in 40\n",
            "225 has been eleminated while in 41\n",
            "328 has been eleminated while in 41\n",
            "331 has been eleminated while in 71\n",
            "325 has been eleminated while in 76\n",
            "213 has been eleminated while in 209\n",
            "215 has been eleminated while in 209\n",
            "222 has been eleminated while in 209\n",
            "223 has been eleminated while in 209\n",
            "224 has been eleminated while in 209\n",
            "226 has been eleminated while in 209\n",
            "227 has been eleminated while in 209\n",
            "229 has been eleminated while in 209\n",
            "230 has been eleminated while in 209\n",
            "231 has been eleminated while in 209\n",
            "232 has been eleminated while in 209\n",
            "236 has been eleminated while in 209\n",
            "237 has been eleminated while in 209\n",
            "243 has been eleminated while in 209\n",
            "248 has been eleminated while in 209\n",
            "258 has been eleminated while in 209\n",
            "259 has been eleminated while in 209\n",
            "260 has been eleminated while in 209\n",
            "266 has been eleminated while in 209\n",
            "269 has been eleminated while in 209\n",
            "270 has been eleminated while in 209\n",
            "271 has been eleminated while in 209\n",
            "272 has been eleminated while in 209\n",
            "276 has been eleminated while in 209\n",
            "283 has been eleminated while in 209\n",
            "285 has been eleminated while in 209\n",
            "291 has been eleminated while in 209\n",
            "294 has been eleminated while in 209\n",
            "273 has been eleminated while in 218\n",
            "281 has been eleminated while in 218\n",
            "301 has been eleminated while in 238\n",
            "255 has been eleminated while in 239\n",
            "280 has been eleminated while in 278\n",
            "312 has been eleminated while in 282\n"
          ]
        }
      ]
    },
    {
      "cell_type": "code",
      "source": [
        "selected_feat_efs_mi = EFS_MI(df, X_train, y_train)"
      ],
      "metadata": {
        "colab": {
          "base_uri": "https://localhost:8080/"
        },
        "id": "PDVM6fyAAbyC",
        "outputId": "453829b6-f780-4cbd-fc2c-23ca58a88f11"
      },
      "execution_count": 149,
      "outputs": [
        {
          "output_type": "stream",
          "name": "stdout",
          "text": [
            "8\n",
            "535\n"
          ]
        }
      ]
    },
    {
      "cell_type": "code",
      "source": [
        "len(selected_feat_efs_mi)"
      ],
      "metadata": {
        "colab": {
          "base_uri": "https://localhost:8080/"
        },
        "id": "q_bN1CL0pzir",
        "outputId": "e00a6284-5dd6-4758-a407-6723cc36e734"
      },
      "execution_count": 150,
      "outputs": [
        {
          "output_type": "execute_result",
          "data": {
            "text/plain": [
              "225"
            ]
          },
          "metadata": {},
          "execution_count": 150
        }
      ]
    },
    {
      "cell_type": "code",
      "source": [
        "class DNN(nn.Module):\n",
        "    def __init__(self,input_size,output_size):\n",
        "        super(DNN,self).__init__()\n",
        "        self.hidden1 = nn.Linear(input_size,128)\n",
        "        self.hidden2 = nn.Linear(128,64)\n",
        "        self.hidden3 = nn.Linear(64,32)\n",
        "        self.output = nn.Linear(32,output_size)\n",
        "        self.softmax = F.softmax\n",
        "        self.relu = nn.ReLU()\n",
        "        self.dropout = nn.Dropout(p=0.2)\n",
        "        self.batchnorm1 = nn.BatchNorm1d(128)\n",
        "        self.batchnorm2 = nn.BatchNorm1d(64)\n",
        "        self.batchnorm3 = nn.BatchNorm1d(32)\n",
        "    \n",
        "    def forward(self,x):\n",
        "        out = self.hidden1(x)\n",
        "        out = self.batchnorm1(out)\n",
        "        out = self.relu(out)\n",
        "        \n",
        "        out = self.hidden2(out)\n",
        "        out = self.batchnorm2(out)\n",
        "        out = self.relu(out)\n",
        "        out = self.dropout(out)\n",
        "\n",
        "        out = self.hidden3(out)\n",
        "        out = self.batchnorm3(out)\n",
        "        out = self.relu(out)\n",
        "        out = self.dropout(out)\n",
        "\n",
        "        out = self.output(out)\n",
        "        return out"
      ],
      "metadata": {
        "id": "9B_nzt6FHQCf"
      },
      "execution_count": 151,
      "outputs": []
    },
    {
      "cell_type": "code",
      "source": [
        "def extract_batch(X,y,batch_size,step,no_of_samples):\n",
        "  l = (step-1)*batch_size\n",
        "  return X[l:(l+batch_size)],y[l:min(no_of_samples,l+batch_size)]\n",
        "def multi_acc(y_pred, y_test):\n",
        "    y_pred_softmax = torch.log_softmax(y_pred, dim = 1)\n",
        "    _, y_pred_tags = torch.max(y_pred_softmax, dim = 1)   \n",
        "    correct_pred = (y_pred_tags == y_test).float()\n",
        "    acc = correct_pred.sum()*1.0 / len(correct_pred)\n",
        "    acc = acc * 100\n",
        "    return acc"
      ],
      "metadata": {
        "id": "jIWh87J4HTgj"
      },
      "execution_count": 152,
      "outputs": []
    },
    {
      "cell_type": "code",
      "source": [
        "def plot_confusion_matrix(net, test_X, test_y):\n",
        "  y_pred = net(test_X)\n",
        "  y_pred_softmax = torch.log_softmax(y_pred, dim = 1)\n",
        "  _, y_pred = torch.max(y_pred_softmax, dim = 1)   \n",
        "  y_pred = y_pred.detach().numpy().ravel()\n",
        "  cm = confusion_matrix(test_y.ravel(), y_pred)\n",
        "  f,ax=plt.subplots(figsize=(20,10))\n",
        "  sns.heatmap(cm,annot=True,fmt='.0f')\n",
        "  plt.ylabel('Actal Values')\n",
        "  plt.xlabel('Predicted Values')\n",
        "  plt.show()\n",
        "\n",
        "def model_training_evaluation(X_train, X_test, X_val, y_train, y_test, y_val,selected_feat):\n",
        "  train_X = X_train[selected_feat]\n",
        "  test_X = X_test[selected_feat]\n",
        "  val_X = X_val[selected_feat]\n",
        "  scaler = MinMaxScaler()\n",
        "  train_X = scaler.fit_transform(train_X)\n",
        "  val_X = scaler.transform(val_X)\n",
        "  test_X = scaler.transform(test_X)\n",
        "  train_X = torch.from_numpy(train_X.astype(np.float32))\n",
        "  test_X = torch.from_numpy(test_X.astype(np.float32))\n",
        "  val_X = torch.from_numpy(val_X.astype(np.float32))\n",
        "  train_y =  torch.tensor(y_train.values.astype(np.float32))-1\n",
        "  test_y =  torch.tensor(y_test.values.astype(np.float32))-1\n",
        "  val_y =  torch.tensor(y_val.values.astype(np.float32))-1\n",
        "  input_size = train_X.shape[1]\n",
        "  output_size = torch.unique(train_y).shape[0]\n",
        "  learning_rate = 0.001\n",
        "  num_epochs = 1001\n",
        "  batch_size = 163\n",
        "  n_samples = train_X.shape[0]\n",
        "  criterion = nn.CrossEntropyLoss(reduction='sum')\n",
        "  best_lr = None\n",
        "  best_loss = 100000\n",
        "  best_model = None\n",
        "  best_train_loss = None\n",
        "  best_val_loss = None\n",
        "  for lr in [0.0005,0.001,0.003,0.005,0.01]:\n",
        "    #print(f\"Learning rate: {lr}:\")\n",
        "    net = DNN(input_size, output_size)\n",
        "    optimizer = torch.optim.SGD(net.parameters(), lr=lr)  \n",
        "    train_loss = []\n",
        "    val_loss = []\n",
        "    for epoch in range(num_epochs):\n",
        "      step = 1\n",
        "      while(batch_size*step<=n_samples):\n",
        "        x,y =  extract_batch(train_X,train_y, batch_size, step, n_samples)\n",
        "        # Forward Propagation\n",
        "        y_predicted = net(x)\n",
        "        loss = criterion(y_predicted,  torch.tensor(y, dtype=torch.long))\n",
        "        # Backward propagation and update\n",
        "        loss.backward()\n",
        "        optimizer.step()\n",
        "        # Performing zero grad before new step\n",
        "        optimizer.zero_grad()\n",
        "        step = step+1\n",
        "      train_loss.append(criterion( net(train_X),  torch.tensor(train_y, dtype=torch.long)).item()) \n",
        "      val_loss.append(criterion( net(val_X),  torch.tensor(val_y, dtype=torch.long)).item())\n",
        "      #appending the loss to the loss list\n",
        "      # if(epoch%100==0):\n",
        "      #   print(f'epoch: {epoch}, loss = {train_loss[-1]}')\n",
        "    val_ls = sum(val_loss)/len(val_loss)\n",
        "    if(val_ls<=best_loss):\n",
        "      best_loss = val_ls\n",
        "      best_lr = lr\n",
        "      best_model = net\n",
        "      best_val_loss = val_loss\n",
        "      best_train_loss = train_loss\n",
        "  #print(f\"Best_lr:{best_lr}\\nBest_loss:{best_loss}\")\n",
        "  y_pred = best_model(test_X)\n",
        "  acc = multi_acc(y_pred, test_y)\n",
        "  print(f\"Test accuracy is {(acc):.2f}%\")\n",
        "  sns.lineplot(range(1001),best_train_loss)\n",
        "  plt.ylabel(\"Total Loss\")\n",
        "  plt.xlabel(\"No of Epochs\")\n",
        "  plot_confusion_matrix(best_model, test_X, y_test-1)\n",
        "  \n",
        "  return best_model\n",
        "\n"
      ],
      "metadata": {
        "id": "IBf8MycHFgnS"
      },
      "execution_count": 153,
      "outputs": []
    },
    {
      "cell_type": "code",
      "source": [
        "# model training with hyperparameter tuning using features selected by existing EFS-MI algorithm\n",
        "model_training_evaluation(X_train, X_test, X_val, y_train, y_test, y_val,selected_feat_efs_mi)"
      ],
      "metadata": {
        "colab": {
          "base_uri": "https://localhost:8080/",
          "height": 1000
        },
        "id": "apRE0QQqIA_E",
        "outputId": "3c993571-4342-4f3b-a4fe-b0842e9aa6c5"
      },
      "execution_count": 154,
      "outputs": [
        {
          "output_type": "stream",
          "name": "stderr",
          "text": [
            "/usr/local/lib/python3.7/dist-packages/ipykernel_launcher.py:51: UserWarning: To copy construct from a tensor, it is recommended to use sourceTensor.clone().detach() or sourceTensor.clone().detach().requires_grad_(True), rather than torch.tensor(sourceTensor).\n",
            "/usr/local/lib/python3.7/dist-packages/ipykernel_launcher.py:58: UserWarning: To copy construct from a tensor, it is recommended to use sourceTensor.clone().detach() or sourceTensor.clone().detach().requires_grad_(True), rather than torch.tensor(sourceTensor).\n",
            "/usr/local/lib/python3.7/dist-packages/ipykernel_launcher.py:59: UserWarning: To copy construct from a tensor, it is recommended to use sourceTensor.clone().detach() or sourceTensor.clone().detach().requires_grad_(True), rather than torch.tensor(sourceTensor).\n"
          ]
        },
        {
          "output_type": "stream",
          "name": "stdout",
          "text": [
            "Test accuracy is 94.29%\n"
          ]
        },
        {
          "output_type": "stream",
          "name": "stderr",
          "text": [
            "/usr/local/lib/python3.7/dist-packages/seaborn/_decorators.py:43: FutureWarning: Pass the following variables as keyword args: x, y. From version 0.12, the only valid positional argument will be `data`, and passing other arguments without an explicit keyword will result in an error or misinterpretation.\n",
            "  FutureWarning\n"
          ]
        },
        {
          "output_type": "display_data",
          "data": {
            "text/plain": [
              "<Figure size 432x288 with 1 Axes>"
            ],
            "image/png": "[encoded data removed]"
          },
          "metadata": {
            "needs_background": "light"
          }
        },
        {
          "output_type": "display_data",
          "data": {
            "text/plain": [
              "<Figure size 1440x720 with 2 Axes>"
            ],
            "image/png": "[encoded data removed]"
          },
          "metadata": {
            "needs_background": "light"
          }
        },
        {
          "output_type": "execute_result",
          "data": {
            "text/plain": [
              "DNN(\n",
              "  (hidden1): Linear(in_features=225, out_features=128, bias=True)\n",
              "  (hidden2): Linear(in_features=128, out_features=64, bias=True)\n",
              "  (hidden3): Linear(in_features=64, out_features=32, bias=True)\n",
              "  (output): Linear(in_features=32, out_features=22, bias=True)\n",
              "  (relu): ReLU()\n",
              "  (dropout): Dropout(p=0.2, inplace=False)\n",
              "  (batchnorm1): BatchNorm1d(128, eps=1e-05, momentum=0.1, affine=True, track_running_stats=True)\n",
              "  (batchnorm2): BatchNorm1d(64, eps=1e-05, momentum=0.1, affine=True, track_running_stats=True)\n",
              "  (batchnorm3): BatchNorm1d(32, eps=1e-05, momentum=0.1, affine=True, track_running_stats=True)\n",
              ")"
            ]
          },
          "metadata": {},
          "execution_count": 154
        }
      ]
    },
    {
      "cell_type": "code",
      "source": [
        "# model training with hyperparameter tuning using features selected by existing EFS-MI algorithm\n",
        "model_training_evaluation(X_train, X_test, X_val, y_train, y_test, y_val,selected_feat_ecfs)"
      ],
      "metadata": {
        "colab": {
          "base_uri": "https://localhost:8080/",
          "height": 1000
        },
        "id": "RVDYyAbgIBRZ",
        "outputId": "9ba17192-5444-4f65-c382-14450dc70dc4"
      },
      "execution_count": 155,
      "outputs": [
        {
          "output_type": "stream",
          "name": "stderr",
          "text": [
            "/usr/local/lib/python3.7/dist-packages/ipykernel_launcher.py:51: UserWarning: To copy construct from a tensor, it is recommended to use sourceTensor.clone().detach() or sourceTensor.clone().detach().requires_grad_(True), rather than torch.tensor(sourceTensor).\n",
            "/usr/local/lib/python3.7/dist-packages/ipykernel_launcher.py:58: UserWarning: To copy construct from a tensor, it is recommended to use sourceTensor.clone().detach() or sourceTensor.clone().detach().requires_grad_(True), rather than torch.tensor(sourceTensor).\n",
            "/usr/local/lib/python3.7/dist-packages/ipykernel_launcher.py:59: UserWarning: To copy construct from a tensor, it is recommended to use sourceTensor.clone().detach() or sourceTensor.clone().detach().requires_grad_(True), rather than torch.tensor(sourceTensor).\n"
          ]
        },
        {
          "output_type": "stream",
          "name": "stdout",
          "text": [
            "Test accuracy is 98.57%\n"
          ]
        },
        {
          "output_type": "stream",
          "name": "stderr",
          "text": [
            "/usr/local/lib/python3.7/dist-packages/seaborn/_decorators.py:43: FutureWarning: Pass the following variables as keyword args: x, y. From version 0.12, the only valid positional argument will be `data`, and passing other arguments without an explicit keyword will result in an error or misinterpretation.\n",
            "  FutureWarning\n"
          ]
        },
        {
          "output_type": "display_data",
          "data": {
            "text/plain": [
              "<Figure size 432x288 with 1 Axes>"
            ],
            "image/png": "[encoded data removed]"
          },
          "metadata": {
            "needs_background": "light"
          }
        },
        {
          "output_type": "display_data",
          "data": {
            "text/plain": [
              "<Figure size 1440x720 with 2 Axes>"
            ],
            "image/png": "[encoded data removed]"
          },
          "metadata": {
            "needs_background": "light"
          }
        },
        {
          "output_type": "execute_result",
          "data": {
            "text/plain": [
              "DNN(\n",
              "  (hidden1): Linear(in_features=172, out_features=128, bias=True)\n",
              "  (hidden2): Linear(in_features=128, out_features=64, bias=True)\n",
              "  (hidden3): Linear(in_features=64, out_features=32, bias=True)\n",
              "  (output): Linear(in_features=32, out_features=22, bias=True)\n",
              "  (relu): ReLU()\n",
              "  (dropout): Dropout(p=0.2, inplace=False)\n",
              "  (batchnorm1): BatchNorm1d(128, eps=1e-05, momentum=0.1, affine=True, track_running_stats=True)\n",
              "  (batchnorm2): BatchNorm1d(64, eps=1e-05, momentum=0.1, affine=True, track_running_stats=True)\n",
              "  (batchnorm3): BatchNorm1d(32, eps=1e-05, momentum=0.1, affine=True, track_running_stats=True)\n",
              ")"
            ]
          },
          "metadata": {},
          "execution_count": 155
        }
      ]
    },
    {
      "cell_type": "code",
      "source": [
        "net = model_training_evaluation(X_train, X_test, X_val, y_train, y_test, y_val,features)"
      ],
      "metadata": {
        "id": "V00Nalj7NPcG",
        "colab": {
          "base_uri": "https://localhost:8080/",
          "height": 998
        },
        "outputId": "ecf2921d-b776-440e-f2ba-6f420ab192ed"
      },
      "execution_count": 156,
      "outputs": [
        {
          "output_type": "stream",
          "name": "stderr",
          "text": [
            "/usr/local/lib/python3.7/dist-packages/ipykernel_launcher.py:51: UserWarning: To copy construct from a tensor, it is recommended to use sourceTensor.clone().detach() or sourceTensor.clone().detach().requires_grad_(True), rather than torch.tensor(sourceTensor).\n",
            "/usr/local/lib/python3.7/dist-packages/ipykernel_launcher.py:58: UserWarning: To copy construct from a tensor, it is recommended to use sourceTensor.clone().detach() or sourceTensor.clone().detach().requires_grad_(True), rather than torch.tensor(sourceTensor).\n",
            "/usr/local/lib/python3.7/dist-packages/ipykernel_launcher.py:59: UserWarning: To copy construct from a tensor, it is recommended to use sourceTensor.clone().detach() or sourceTensor.clone().detach().requires_grad_(True), rather than torch.tensor(sourceTensor).\n"
          ]
        },
        {
          "output_type": "stream",
          "name": "stdout",
          "text": [
            "Test accuracy is 96.29%\n"
          ]
        },
        {
          "output_type": "stream",
          "name": "stderr",
          "text": [
            "/usr/local/lib/python3.7/dist-packages/seaborn/_decorators.py:43: FutureWarning: Pass the following variables as keyword args: x, y. From version 0.12, the only valid positional argument will be `data`, and passing other arguments without an explicit keyword will result in an error or misinterpretation.\n",
            "  FutureWarning\n"
          ]
        },
        {
          "output_type": "display_data",
          "data": {
            "text/plain": [
              "<Figure size 432x288 with 1 Axes>"
            ],
            "image/png": "[encoded data removed]"
          },
          "metadata": {
            "needs_background": "light"
          }
        },
        {
          "output_type": "display_data",
          "data": {
            "text/plain": [
              "<Figure size 1440x720 with 2 Axes>"
            ],
            "image/png": "[encoded data removed]"
          },
          "metadata": {
            "needs_background": "light"
          }
        }
      ]
    },
    {
      "cell_type": "code",
      "source": [],
      "metadata": {
        "id": "OzUI_0edvlZF"
      },
      "execution_count": null,
      "outputs": []
    }
  ]
}