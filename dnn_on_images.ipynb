{
  "nbformat": 4,
  "nbformat_minor": 0,
  "metadata": {
    "colab": {
      "provenance": [],
      "authorship_tag": "ABX9TyNLC2M7sXewrvXiOzSvWnU5",
      "include_colab_link": true
    },
    "kernelspec": {
      "name": "python3",
      "display_name": "Python 3"
    },
    "language_info": {
      "name": "python"
    }
  },
  "cells": [
    {
      "cell_type": "markdown",
      "metadata": {
        "id": "view-in-github",
        "colab_type": "text"
      },
      "source": [
        "<a href=\"https://colab.research.google.com/github/Saadman53/Thesis-Human-Action-Recognition/blob/main/dnn_on_images.ipynb\" target=\"_parent\"><img src=\"https://colab.research.google.com/assets/colab-badge.svg\" alt=\"Open In Colab\"/></a>"
      ]
    },
    {
      "cell_type": "code",
      "execution_count": 1,
      "metadata": {
        "colab": {
          "base_uri": "https://localhost:8080/"
        },
        "id": "ndZhJAS5EiIT",
        "outputId": "0a941acf-eaff-47b0-ee31-93118102f1da"
      },
      "outputs": [
        {
          "output_type": "stream",
          "name": "stdout",
          "text": [
            "Mounted at /content/drive\n"
          ]
        }
      ],
      "source": [
        "from google.colab import drive\n",
        "drive.mount('/content/drive')\n",
        "gdrive_path = \"drive/My Drive/Dataset/cutu.mat\""
      ]
    },
    {
      "cell_type": "code",
      "source": [
        "!pip install minepy\n",
        "!pip install sklearn_relief\n",
        "!pip install sklearn-genetic\n",
        "!pip install info_gain"
      ],
      "metadata": {
        "colab": {
          "base_uri": "https://localhost:8080/"
        },
        "id": "qW1uCxAXEmrr",
        "outputId": "6b0d244a-582c-4dce-e37a-e76b728cd7fc"
      },
      "execution_count": 2,
      "outputs": [
        {
          "output_type": "stream",
          "name": "stdout",
          "text": [
            "Looking in indexes: https://pypi.org/simple, https://us-python.pkg.dev/colab-wheels/public/simple/\n",
            "Collecting minepy\n",
            "  Downloading minepy-1.2.6.tar.gz (496 kB)\n",
            "\u001b[K     |████████████████████████████████| 496 kB 5.1 MB/s \n",
            "\u001b[?25hRequirement already satisfied: numpy>=1.3.0 in /usr/local/lib/python3.8/dist-packages (from minepy) (1.21.6)\n",
            "Building wheels for collected packages: minepy\n",
            "  Building wheel for minepy (setup.py) ... \u001b[?25l\u001b[?25hdone\n",
            "  Created wheel for minepy: filename=minepy-1.2.6-cp38-cp38-linux_x86_64.whl size=195335 sha256=b8d81cdd0ebfdd6e6c60995f8711bb47d29bf9aa8478ef056e7444d7d910ed32\n",
            "  Stored in directory: /root/.cache/pip/wheels/38/c1/43/6122536c873081a61af51f929214171d5372f93a29e263a06f\n",
            "Successfully built minepy\n",
            "Installing collected packages: minepy\n",
            "Successfully installed minepy-1.2.6\n",
            "Looking in indexes: https://pypi.org/simple, https://us-python.pkg.dev/colab-wheels/public/simple/\n",
            "Collecting sklearn_relief\n",
            "  Downloading sklearn_relief-1.0.0b2-py3-none-any.whl (8.7 kB)\n",
            "Requirement already satisfied: scipy>=1.0.0 in /usr/local/lib/python3.8/dist-packages (from sklearn_relief) (1.7.3)\n",
            "Requirement already satisfied: scikit-learn>=0.19.1 in /usr/local/lib/python3.8/dist-packages (from sklearn_relief) (1.0.2)\n",
            "Requirement already satisfied: numpy>=1.13.3 in /usr/local/lib/python3.8/dist-packages (from sklearn_relief) (1.21.6)\n",
            "Requirement already satisfied: threadpoolctl>=2.0.0 in /usr/local/lib/python3.8/dist-packages (from scikit-learn>=0.19.1->sklearn_relief) (3.1.0)\n",
            "Requirement already satisfied: joblib>=0.11 in /usr/local/lib/python3.8/dist-packages (from scikit-learn>=0.19.1->sklearn_relief) (1.2.0)\n",
            "Installing collected packages: sklearn-relief\n",
            "Successfully installed sklearn-relief-1.0.0b2\n",
            "Looking in indexes: https://pypi.org/simple, https://us-python.pkg.dev/colab-wheels/public/simple/\n",
            "Collecting sklearn-genetic\n",
            "  Downloading sklearn_genetic-0.5.1-py3-none-any.whl (11 kB)\n",
            "Collecting deap>=1.0.2\n",
            "  Downloading deap-1.3.3-cp38-cp38-manylinux_2_5_x86_64.manylinux1_x86_64.manylinux_2_17_x86_64.manylinux2014_x86_64.whl (139 kB)\n",
            "\u001b[K     |████████████████████████████████| 139 kB 5.0 MB/s \n",
            "\u001b[?25hCollecting multiprocess\n",
            "  Downloading multiprocess-0.70.14-py38-none-any.whl (132 kB)\n",
            "\u001b[K     |████████████████████████████████| 132 kB 45.4 MB/s \n",
            "\u001b[?25hRequirement already satisfied: scikit-learn>=0.23 in /usr/local/lib/python3.8/dist-packages (from sklearn-genetic) (1.0.2)\n",
            "Requirement already satisfied: numpy in /usr/local/lib/python3.8/dist-packages (from sklearn-genetic) (1.21.6)\n",
            "Requirement already satisfied: joblib>=0.11 in /usr/local/lib/python3.8/dist-packages (from scikit-learn>=0.23->sklearn-genetic) (1.2.0)\n",
            "Requirement already satisfied: scipy>=1.1.0 in /usr/local/lib/python3.8/dist-packages (from scikit-learn>=0.23->sklearn-genetic) (1.7.3)\n",
            "Requirement already satisfied: threadpoolctl>=2.0.0 in /usr/local/lib/python3.8/dist-packages (from scikit-learn>=0.23->sklearn-genetic) (3.1.0)\n",
            "Requirement already satisfied: dill>=0.3.6 in /usr/local/lib/python3.8/dist-packages (from multiprocess->sklearn-genetic) (0.3.6)\n",
            "Installing collected packages: multiprocess, deap, sklearn-genetic\n",
            "Successfully installed deap-1.3.3 multiprocess-0.70.14 sklearn-genetic-0.5.1\n",
            "Looking in indexes: https://pypi.org/simple, https://us-python.pkg.dev/colab-wheels/public/simple/\n",
            "Collecting info_gain\n",
            "  Downloading info_gain-1.0.1-py3-none-any.whl (3.3 kB)\n",
            "Installing collected packages: info-gain\n",
            "Successfully installed info-gain-1.0.1\n"
          ]
        }
      ]
    },
    {
      "cell_type": "code",
      "source": [
        "import pandas as pd\n",
        "import numpy as np\n",
        "import matplotlib.pyplot as plt\n",
        "import seaborn as sns\n",
        "%matplotlib inline\n",
        "from minepy import MINE\n",
        "from sklearn.feature_selection import mutual_info_regression\n",
        "import scipy\n",
        "\n",
        "from sklearn.ensemble import RandomForestClassifier\n",
        "from sklearn.feature_selection import SelectFromModel\n",
        "from sklearn.model_selection import train_test_split\n",
        "from scipy.special import entr\n",
        "from sklearn.feature_selection import mutual_info_classif\n",
        "from sklearn.preprocessing import MinMaxScaler\n",
        "from scipy.stats import differential_entropy\n",
        "from scipy.stats import entropy\n",
        "\n",
        "from sklearn.tree import DecisionTreeClassifier\n",
        "\n",
        "from sklearn.preprocessing import MinMaxScaler\n",
        "import torch\n",
        "import torch.nn as nn\n",
        "import torch.nn.functional as F\n",
        "\n",
        "\n",
        "from sklearn.ensemble import RandomForestClassifier\n",
        "from sklearn.feature_selection import SelectFromModel\n",
        "\n",
        "from genetic_selection import GeneticSelectionCV\n",
        "from sklearn.tree import DecisionTreeClassifier\n",
        "\n",
        "from sklearn.feature_selection import mutual_info_regression\n",
        "from info_gain import info_gain\n",
        "\n",
        "import random\n",
        "from sklearn.metrics import confusion_matrix, recall_score, precision_score\n",
        "\n",
        "\n",
        "import warnings\n",
        "warnings.filterwarnings('ignore')\n",
        "from sklearn.metrics import classification_report\n",
        "\n",
        "\n",
        "from torch.utils.data import DataLoader, ConcatDataset\n",
        "# from torchvision import transforms\n",
        "from sklearn.model_selection  import StratifiedKFold\n",
        "%matplotlib inline\n",
        "\n",
        "import scipy.io as sio"
      ],
      "metadata": {
        "id": "ANu_BDp0Erqy"
      },
      "execution_count": 5,
      "outputs": []
    },
    {
      "cell_type": "code",
      "source": [
        "dat = sio.loadmat(gdrive_path)\n",
        "train_x = dat['train_X']\n",
        "train_y = dat['train_y'][0]-1\n",
        "test_x = dat['test_X']\n",
        "test_y = dat['test_y'][0]-1"
      ],
      "metadata": {
        "id": "kj4xV-a3Er47"
      },
      "execution_count": 6,
      "outputs": []
    },
    {
      "cell_type": "code",
      "source": [
        "X = np.concatenate((train_x,test_x),axis = 0)\n",
        "y = np.concatenate((train_y,test_y),axis = 0)"
      ],
      "metadata": {
        "id": "TbitYMC0E5mb"
      },
      "execution_count": 8,
      "outputs": []
    },
    {
      "cell_type": "code",
      "source": [
        "X_train, X_test, y_train, y_test = train_test_split(X, y,test_size=0.3, random_state=42, stratify = y)"
      ],
      "metadata": {
        "id": "uMJJqg9YFZQa"
      },
      "execution_count": 10,
      "outputs": []
    },
    {
      "cell_type": "code",
      "source": [
        "X_train[0].ravel().shape"
      ],
      "metadata": {
        "colab": {
          "base_uri": "https://localhost:8080/"
        },
        "id": "gbIrTAo0F2Gf",
        "outputId": "46c71726-8b01-4278-a85f-3ec9aea5cb03"
      },
      "execution_count": 20,
      "outputs": [
        {
          "output_type": "execute_result",
          "data": {
            "text/plain": [
              "(4096,)"
            ]
          },
          "metadata": {},
          "execution_count": 20
        }
      ]
    },
    {
      "cell_type": "code",
      "source": [
        "class DNN(nn.Module):\n",
        "    def __init__(self,input_size,output_size):\n",
        "        super(DNN,self).__init__()\n",
        "        self.hidden1 = nn.Linear(input_size,2048)\n",
        "        self.hidden2 = nn.Linear(2048,1024)\n",
        "        self.hidden3 = nn.Linear(1024,512)\n",
        "        self.hidden4 = nn.Linear(512,256)\n",
        "        self.hidden5 = nn.Linear(256,128)\n",
        "        self.hidden6 = nn.Linear(128,64)\n",
        "        self.output = nn.Linear(64,output_size)\n",
        "        self.softmax = F.softmax\n",
        "        self.relu = nn.ReLU()\n",
        "        self.dropout = nn.Dropout(p=0.25)\n",
        "        self.batchnorm1 = nn.BatchNorm1d(2048)\n",
        "        self.batchnorm2 = nn.BatchNorm1d(1024)\n",
        "        self.batchnorm3 = nn.BatchNorm1d(512)\n",
        "        self.batchnorm4 = nn.BatchNorm1d(256)\n",
        "        self.batchnorm5 = nn.BatchNorm1d(128)\n",
        "        self.batchnorm6 = nn.BatchNorm1d(64)\n",
        "    \n",
        "    def forward(self,x):\n",
        "        out = self.hidden1(x)\n",
        "        out = self.batchnorm1(out)\n",
        "        out = self.relu(out)\n",
        "        \n",
        "        out = self.hidden2(out)\n",
        "        out = self.batchnorm2(out)\n",
        "        out = self.relu(out)\n",
        "        out = self.dropout(out)\n",
        "\n",
        "        out = self.hidden3(out)\n",
        "        out = self.batchnorm3(out)\n",
        "        out = self.relu(out)\n",
        "        out = self.dropout(out)\n",
        "        \n",
        "        out = self.hidden4(out)\n",
        "        out = self.batchnorm4(out)\n",
        "        out = self.relu(out)\n",
        "        out = self.dropout(out)\n",
        "        \n",
        "        out = self.hidden5(out)\n",
        "        out = self.batchnorm5(out)\n",
        "        out = self.relu(out)\n",
        "        out = self.dropout(out)\n",
        "        \n",
        "        out = self.hidden6(out)\n",
        "        out = self.batchnorm6(out)\n",
        "        out = self.relu(out)\n",
        "        out = self.dropout(out)\n",
        "\n",
        "        out = self.output(out)\n",
        "        return out"
      ],
      "metadata": {
        "id": "IRrldXVoFdkr"
      },
      "execution_count": 22,
      "outputs": []
    },
    {
      "cell_type": "code",
      "source": [
        "def extract_batch(X,y,batch_size,step,no_of_samples):\n",
        "  l = (step-1)*batch_size\n",
        "  return X[l:(l+batch_size)],y[l:min(no_of_samples,l+batch_size)]\n",
        "def multi_acc(y_pred, y_test):\n",
        "    y_pred_softmax = torch.log_softmax(y_pred, dim = 1)\n",
        "    _, y_pred_tags = torch.max(y_pred_softmax, dim = 1)   \n",
        "    correct_pred = (y_pred_tags == y_test).float()\n",
        "    acc = correct_pred.sum()*1.0 / len(correct_pred)\n",
        "    acc = acc * 100\n",
        "    return acc"
      ],
      "metadata": {
        "id": "ir17OEHxFmhj"
      },
      "execution_count": 23,
      "outputs": []
    },
    {
      "cell_type": "code",
      "source": [
        "def model_training_evaluation(X_train, X_test, y_train, y_test):\n",
        "  train_X = torch.from_numpy(X_train.astype(np.float32))\n",
        "  test_X = torch.from_numpy(X_test.astype(np.float32))\n",
        "  train_y =  torch.tensor(y_train)\n",
        "  test_y =  torch.tensor(y_test)\n",
        "  input_size = 4096\n",
        "  output_size = torch.unique(train_y).shape[0]\n",
        "  num_epochs = 100\n",
        "  n_samples = train_X.shape[0]\n",
        "  criterion = nn.CrossEntropyLoss(reduction='sum')\n",
        "  best_lr = None\n",
        "  best_loss = 100000\n",
        "  best_model = None\n",
        "  best_train_loss = None\n",
        "  best_val_loss = None\n",
        "  best_epoch = None\n",
        "  skf = StratifiedKFold(n_splits=3, shuffle=True, random_state=1)\n",
        "  for lr in [0.03]:\n",
        "    #print(f\"Learning rate: {lr}:\")\n",
        "    net = DNN(input_size, output_size)\n",
        "    optimizer = torch.optim.SGD(net.parameters(), lr=lr)  \n",
        "    cnt = 1\n",
        "    figure, ax = plt.subplots(3,figsize=(10,10))\n",
        "    for train_index, val_index in skf.split(X_train, y_train):\n",
        "      train_X_fold = train_X[train_index]\n",
        "      train_y_fold = train_y[train_index]\n",
        "      val_x_fold = train_X[val_index]\n",
        "      val_y_fold = train_y[val_index]\n",
        "      n_samples = train_X_fold.shape[0]\n",
        "      batch_size = int(n_samples/5)\n",
        "      train_loss = []\n",
        "      val_loss = []\n",
        "      print(f\"Training for fold {cnt}\")\n",
        "      for epoch in range(num_epochs):\n",
        "        step = 1\n",
        "        while(batch_size*step<=n_samples):\n",
        "          x,y =  extract_batch(train_X_fold,train_y_fold, batch_size, step, n_samples)\n",
        "          # Forward Propagation\n",
        "          y_predicted = net(x.reshape((x.shape[0],4096)))\n",
        "          loss = criterion(y_predicted,  torch.tensor(y, dtype=torch.long))\n",
        "          # Backward propagation and update\n",
        "          loss.backward()\n",
        "          optimizer.step()\n",
        "          # Performing zero grad before new step\n",
        "          optimizer.zero_grad()\n",
        "          step = step+1\n",
        "        t_loss = criterion( net(train_X_fold.reshape((train_X_fold.shape[0],4096))),  torch.tensor(train_y_fold, dtype=torch.long)).item()/train_X_fold.shape[0]\n",
        "        v_loss = criterion( net(val_x_fold.reshape((val_x_fold.shape[0],4096))),  torch.tensor(val_y_fold, dtype=torch.long)).item()/val_x_fold.shape[0]\n",
        "        train_loss.append(t_loss) \n",
        "        val_loss.append(v_loss)\n",
        "        if(v_loss<best_loss):\n",
        "          best_lr = lr\n",
        "          best_loss = v_loss\n",
        "          best_model = net\n",
        "          best_epoch = epoch\n",
        "      cnt+=1\n",
        "  y_pred = best_model(test_X.reshape((test_X.shape[0],4096)))\n",
        "  acc = multi_acc(y_pred, test_y)\n",
        "  # cm, pred,recall, precision = plot_confusion_matrix(best_model, test_X.reshape((test_X.shape[0],4096)), y_test-1)\n",
        "  # print(best_loss)\n",
        "  print(f\"Accuracy is {(acc):.2f}%\")\n",
        "  # print(f\"Recall is {(recall):.2f}%\")\n",
        "  # print(f\"Precision is {(precision):.2f}%\")\n"
      ],
      "metadata": {
        "id": "Q-edIewgFqjS"
      },
      "execution_count": 34,
      "outputs": []
    },
    {
      "cell_type": "code",
      "source": [
        "model_training_evaluation(X_train, X_test, y_train, y_test)"
      ],
      "metadata": {
        "colab": {
          "base_uri": "https://localhost:8080/",
          "height": 665
        },
        "id": "K7Wah-gMJGNj",
        "outputId": "b2dac7d7-b9c5-4c56-cd4e-a6e3126717ca"
      },
      "execution_count": 35,
      "outputs": [
        {
          "output_type": "stream",
          "name": "stdout",
          "text": [
            "Training for fold 1\n",
            "Training for fold 2\n",
            "Training for fold 3\n",
            "Accuracy is 93.43%\n"
          ]
        },
        {
          "output_type": "display_data",
          "data": {
            "text/plain": [
              "<Figure size 720x720 with 3 Axes>"
            ],
            "image/png": "[encoded data removed]"
          },
          "metadata": {
            "needs_background": "light"
          }
        }
      ]
    },
    {
      "cell_type": "code",
      "source": [],
      "metadata": {
        "id": "4SYzaHUkJIC7"
      },
      "execution_count": null,
      "outputs": []
    }
  ]
}